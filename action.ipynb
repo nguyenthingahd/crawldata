{
 "cells": [
  {
   "cell_type": "code",
   "execution_count": 4,
   "metadata": {},
   "outputs": [],
   "source": [
    "string = \"tôi sinh ngày 13.\"\n",
    "month = \"1 fajkhd\""
   ]
  },
  {
   "cell_type": "code",
   "execution_count": 6,
   "metadata": {},
   "outputs": [
    {
     "name": "stdout",
     "output_type": "stream",
     "text": [
      "['tôi', 'sinh', 'ngày', '13.']\n",
      "['1', 'fajkhd']\n"
     ]
    }
   ],
   "source": [
    "print(string.split())\n",
    "print(month.split())"
   ]
  },
  {
   "cell_type": "code",
   "execution_count": 32,
   "metadata": {},
   "outputs": [
    {
     "data": {
      "text/plain": [
       "15"
      ]
     },
     "execution_count": 32,
     "metadata": {},
     "output_type": "execute_result"
    }
   ],
   "source": [
    "len(\"They must wait.\")"
   ]
  },
  {
   "cell_type": "code",
   "execution_count": 29,
   "metadata": {},
   "outputs": [],
   "source": [
    "\n",
    "import re\n",
    "\n",
    "def merge_lines_with_numbers(text):\n",
    "    merged_text = re.sub(r'(\\d+\\.)\\s*\\n\\s*(\\d+)', r'\\1\\2', text)\n",
    "    return merged_text\n",
    "\n",
    "with open(\"data1.txt\", 'r', encoding='utf-8') as text_file:\n",
    "    input_text = text_file.read()\n",
    "\n",
    "merged_text = merge_lines_with_numbers(input_text)\n",
    "\n",
    "with open(\"data_update.txt\", 'w', encoding='utf-8') as output_file:\n",
    "    output_file.write(merged_text)\n"
   ]
  }
 ],
 "metadata": {
  "kernelspec": {
   "display_name": "chatbot",
   "language": "python",
   "name": "python3"
  },
  "language_info": {
   "codemirror_mode": {
    "name": "ipython",
    "version": 3
   },
   "file_extension": ".py",
   "mimetype": "text/x-python",
   "name": "python",
   "nbconvert_exporter": "python",
   "pygments_lexer": "ipython3",
   "version": "3.8.17"
  }
 },
 "nbformat": 4,
 "nbformat_minor": 2
}
